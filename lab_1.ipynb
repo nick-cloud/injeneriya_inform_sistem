{
  "cells": [
    {
      "cell_type": "code",
      "source": [
        "from abc import ABC, abstractmethod\n",
        "class RouteStrategy(ABC):\n",
        "    @abstractmethod\n",
        "    def buildRoute(self, A, B):\n",
        "        pass\n",
        "class RoadStrategy(RouteStrategy):\n",
        "    def buildRoute(self, A, B):\n",
        "        print(\"Маршрут по дороге от '\", A, \"' до '\",B, \"' построен\")\n",
        "class PublicTransportStrategy(RouteStrategy):\n",
        "    def buildRoute(self, A, B):\n",
        "        print(\"Маршрут по общественному транспорту от '\", A, \"' до '\",B, \"' построен\")\n",
        "\n",
        "class WalkingStrategy(RouteStrategy):\n",
        "    def buildRoute(self, A, B):\n",
        "        print(\"Пеший маршрут от '\", A, \"' до '\",B, \"' построен\")\n",
        "\n",
        "class Navigator:\n",
        "    def set_strategy(self, strategy: RouteStrategy):\n",
        "        self.strategy = strategy\n",
        "    def Result(self, A, B):\n",
        "        self.strategy.buildRoute(A, B)\n",
        "\n",
        "route = Navigator()\n",
        "route.set_strategy(RoadStrategy())\n",
        "route.Result('Москва', 'Питер')\n",
        "route.set_strategy(WalkingStrategy())\n",
        "route.Result('Москва', 'Питер')"
      ],
      "metadata": {
        "id": "sS3twgcvGspN",
        "outputId": "f9ca2f9d-6410-407d-882b-c308c168c2ac",
        "colab": {
          "base_uri": "https://localhost:8080/"
        }
      },
      "execution_count": 52,
      "outputs": [
        {
          "output_type": "stream",
          "name": "stdout",
          "text": [
            "Маршрут по дороге от ' Москва ' до ' Питер ' построен\n",
            "Пеший маршрут от ' Москва ' до ' Питер ' построен\n"
          ]
        }
      ]
    },
    {
      "cell_type": "code",
      "source": [
        "class DataMiner(object):\n",
        "    def mine(self):\n",
        "        self.openFile()\n",
        "        self.extractData()\n",
        "        self.parseData()\n",
        "        self.analyzeData()\n",
        "        self.SendReport()\n",
        "        self.closeFile()\n",
        " \n",
        "    def openFile(self):\n",
        "        print(\"открытие файла\")\n",
        " \n",
        "    def extractData(self):\n",
        "        print(\"извлечение файла\")\n",
        " \n",
        "    def parseData(self):\n",
        "        print(\"парсинг файла\")\n",
        " \n",
        "    def analyzeData(self):\n",
        "        print(\"анализ данных\")\n",
        "\n",
        "    def SendReport(self):\n",
        "        print(\"отправка отчета\")\n",
        "\n",
        "    def closeFile(self):\n",
        "        print(\"закрытие файла\")\n",
        "\n",
        "\n",
        "class PDFDataMiner(DataMiner):\n",
        "    def openFile(self):\n",
        "        print ('открытие PDF файла')\n",
        " \n",
        "    def extractData(self):\n",
        "        print ('извлечение PDF файла')\n",
        " \n",
        "    def parseData(self):\n",
        "        print ('парсинг PDF файла')\n",
        "\n",
        "    def closeFile(self):\n",
        "        print ('закрытие PDF файла')   \n",
        " \n",
        " \n",
        "example = PDFDataMiner()\n",
        "example.mine()"
      ],
      "metadata": {
        "id": "xsj1yn0nRBL_",
        "outputId": "73ffc0c7-09fd-4409-cf78-c505c1a09ab4",
        "colab": {
          "base_uri": "https://localhost:8080/"
        }
      },
      "execution_count": 73,
      "outputs": [
        {
          "output_type": "stream",
          "name": "stdout",
          "text": [
            "открытие PDF файла\n",
            "извлечение PDF файла\n",
            "парсинг PDF файла\n",
            "анализ данных\n",
            "отправка отчета\n",
            "закрытие PDF файла\n"
          ]
        }
      ]
    }
  ],
  "metadata": {
    "colab": {
      "collapsed_sections": [],
      "name": "Добро пожаловать в Colaboratory!",
      "toc_visible": true,
      "provenance": []
    },
    "kernelspec": {
      "display_name": "Python 3",
      "name": "python3"
    }
  },
  "nbformat": 4,
  "nbformat_minor": 0
}