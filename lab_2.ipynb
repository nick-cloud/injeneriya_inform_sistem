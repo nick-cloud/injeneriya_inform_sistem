{
  "cells": [
    {
      "cell_type": "code",
      "source": [
        "#iterator\n",
        "from collections.abc import Iterator, Iterable\n",
        "\n",
        "\n",
        "class MyIterator(Iterator):\n",
        "   pos: int = None\n",
        "   reverse: bool = False\n",
        "\n",
        "   def __init__(self, data, reverse=False):\n",
        "       self.data = sorted(data)\n",
        "       self.reverse = reverse\n",
        "       if self.reverse == True:\n",
        "            self.pos = -1 \n",
        "       else:\n",
        "            self.pos = 0\n",
        "       \n",
        "   def __next__(self):\n",
        "       try:\n",
        "           value = self.data[self.pos]\n",
        "           if self.reverse == True:\n",
        "            self.pos += -1 \n",
        "           else:\n",
        "              self.pos += 1\n",
        "       except IndexError:\n",
        "           raise StopIteration()\n",
        "       return value\n",
        "\n",
        "\n",
        "class Collection(Iterable):\n",
        "   def __init__(self, data):\n",
        "       self.data = data\n",
        "\n",
        "   def __iter__(self):\n",
        "       return MyIterator(self.data)\n",
        "\n",
        "   def get_reverse_iterator(self):\n",
        "       return MyIterator(self.data, True)\n",
        "\n",
        "\n",
        "\n",
        "collection =Collection([1,2, 1,6,9,10])\n",
        "print(list(collection))\n",
        "print(list(collection.get_reverse_iterator()))"
      ],
      "metadata": {
        "id": "aKv9jxnUmm8m",
        "outputId": "b35ddf91-7354-43b8-f40a-f36ecc1e58a2",
        "colab": {
          "base_uri": "https://localhost:8080/"
        }
      },
      "execution_count": 20,
      "outputs": [
        {
          "output_type": "stream",
          "name": "stdout",
          "text": [
            "[1, 1, 2, 6, 9, 10]\n",
            "[10, 9, 6, 2, 1, 1]\n"
          ]
        }
      ]
    },
    {
      "cell_type": "code",
      "source": [
        "from abc import ABC, abstractmethod\n",
        "\n",
        "class Ivisitor(ABC):\n",
        "  @abstractmethod\n",
        "  def visit(self, place: 'IPlace'):\n",
        "    pass\n",
        "\n",
        "class IPlace(ABC):\n",
        "  @abstractmethod\n",
        "  def accept(self, visitor: Ivisitor):\n",
        "    pass\n",
        "\n",
        "\n",
        "class House(IPlace):\n",
        "  def accept(self,visitor: Ivisitor):\n",
        "    visitor.visit(self)\n",
        "\n",
        "\n",
        "class Bank(IPlace):\n",
        "  def accept(self,visitor: Ivisitor):\n",
        "    visitor.visit(self)\n",
        "\n",
        "\n",
        "class Factory(IPlace):\n",
        "  def accept(self,visitor: Ivisitor):\n",
        "    visitor.visit(self)\n",
        "\n",
        "class Workingday(Ivisitor):\n",
        "  def __init__(self):\n",
        "    self.value = ''\n",
        "\n",
        "\n",
        "  def visit(self,place: IPlace):\n",
        "    if isinstance(place,House):\n",
        "      self.value = 'предложить медицинскую страховку'\n",
        "    elif isinstance(place,Bank):\n",
        "      self.value = 'предложить страховку от грабежа'\n",
        "    elif isinstance(place,Factory):\n",
        "      self.value = 'предложить страховку от пожара и наводнения'\n",
        "\n",
        "places= [House(),Bank(),Factory()]\n",
        "\n",
        "for place in places:\n",
        "  visitor =Workingday()\n",
        "  place.accept(visitor)\n",
        "  print(visitor.value)"
      ],
      "metadata": {
        "id": "fubCbeDUevXI",
        "outputId": "b23864f7-6b74-403d-841b-9b1001235808",
        "colab": {
          "base_uri": "https://localhost:8080/"
        }
      },
      "execution_count": 21,
      "outputs": [
        {
          "output_type": "stream",
          "name": "stdout",
          "text": [
            "предложить медицинскую страховку\n",
            "предложить страховку от грабежа\n",
            "предложить страховку от пожара и наводнения\n"
          ]
        }
      ]
    },
    {
      "cell_type": "code",
      "source": [],
      "metadata": {
        "id": "ceLKUQztfaKF"
      },
      "execution_count": null,
      "outputs": []
    }
  ],
  "metadata": {
    "colab": {
      "name": "Добро пожаловать в Colaboratory!",
      "toc_visible": true,
      "provenance": []
    },
    "kernelspec": {
      "display_name": "Python 3",
      "name": "python3"
    }
  },
  "nbformat": 4,
  "nbformat_minor": 0
}