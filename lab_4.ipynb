{
  "cells": [
    {
      "cell_type": "code",
      "source": [
        "#Адаптер\n",
        "from abc import ABC, abstractmethod\n",
        "\n",
        "#создаем абстрактный клас с абстрактным методом, который будет возвращать дистанцию\n",
        "class IDistance(ABC):\n",
        "  @abstractmethod\n",
        "  def get_distance(self) -> float:\n",
        "    pass\n",
        "\n",
        "# Реализуем интерфейс IDistance в классе, представляющем российские метрики\n",
        "class RissianDistance(IDistance):\n",
        "  # создадим приватное поле _current_distance, которое будет проинициализировано в конструкторе класса\n",
        "  def __init__(self, cw: float):\n",
        "    self._current_distance = cw\n",
        "  # метод, возвращающий значение приватного поля \n",
        "  def get_distance(self)->float:\n",
        "    return self._current_distance\n",
        "\n",
        "# Создидим класс, представляющем американские метрики\n",
        "class AmericanDistance:\n",
        "  # создадим приватное поле _current_distance, которое будет проинициализировано в конструкторе класса\n",
        "  def __init__(self, cw: float):\n",
        "    self._current_distance = cw\n",
        "  # метод, возвращающий значение приватного поля\n",
        "  def get_distance(self)->float:\n",
        "    return self._current_distance\n",
        "  \n",
        "# для согласованности работы классов американской метрики к измерению в км\n",
        "# создадим класс, реализующий интерфейс IDistance\n",
        "class AdapterForAmericanDistance(IDistance):\n",
        "  # он содержит поле типа AmericanDistance, которое будет проинициализировано в конструкторе\n",
        "  def __init__(self,american_distance:AmericanDistance):\n",
        "    self._american_distance = american_distance\n",
        "  # создадим метод, который будет полученное значение веса из вызданного метода на поле american_distance\n",
        "  # умноженого на 0.6214, т.е километры, а не мили \n",
        "  def get_distance(self)->float:\n",
        "    return self._american_distance.get_distance()*0.6214\n",
        "\n",
        "rus_way = 100 # км\n",
        "american_way =100 #мили\n",
        "\n",
        "rus_way = RissianDistance(rus_way)\n",
        "amer_way = AdapterForAmericanDistance(AmericanDistance(american_way))\n",
        "print(rus_way.get_distance(), 'км')\n",
        "print(amer_way.get_distance(),'км')\n",
        "\n"
      ],
      "metadata": {
        "id": "WwDJiigAZ79F",
        "outputId": "08e70bd5-3bc1-4570-dc52-1c07fb625308",
        "colab": {
          "base_uri": "https://localhost:8080/"
        }
      },
      "execution_count": 62,
      "outputs": [
        {
          "output_type": "stream",
          "name": "stdout",
          "text": [
            "100 км\n",
            "62.13999999999999 км\n"
          ]
        }
      ]
    },
    {
      "cell_type": "code",
      "source": [
        "# посредник\n",
        "from __future__ import annotations\n",
        "from abc import ABC\n",
        "\n",
        "# создадим абстрактный класс диспетчера с абстрактным методом уведомления \n",
        "class Dispatcher(ABC):\n",
        "  @abstractmethod\n",
        "  def notify(self, sender: object, event: str) -> None:\n",
        "        pass\n",
        "\n",
        "#реализуем интерфейс диспетчера \n",
        "class ConcreteDispatcher(Dispatcher):\n",
        "  def __init__(self, airplane_1, airplane_2) -> None:\n",
        "      self._airplane_1 = airplane_1\n",
        "      self._airplane_1.dispatcher = self\n",
        "      self._airplane_2 = airplane_2\n",
        "      self._airplane_2.dispatcher = self\n",
        "\n",
        "  # диспетчер получает  определенное событие и реагирует на него\n",
        "  def notify(self, sender: object, event: str) -> None:\n",
        "      if event == \"A\":\n",
        "          print(\"Диспетчер получает сообщение взлета и координирует другой самолет:\")\n",
        "          self._airplane_2.do_wait()\n",
        "      elif event == \"B\":\n",
        "          print(\"Диспетчер получает сообщение взлета и координирует другой самолет:\")\n",
        "          self._airplane_1.do_wait()\n",
        "         \n",
        "# Реализуем Базовый класс, который обеспечивает базовую функциональность хранения\n",
        "# экземпляра посредника внутри объектов компонентов\n",
        "class BaseAirplane:\n",
        "  def __init__(self, dispatcher: Dispatcher = None) -> None:\n",
        "        self._dispatcher = dispatcher\n",
        "\n",
        "  @property\n",
        "  def dispatcher(self) -> Dispatcher:\n",
        "        return self._dispatcher\n",
        "\n",
        "  @dispatcher.setter\n",
        "  def dispatcher(self, dispatcher: Dispatcher) -> None:\n",
        "      self._dispatcher = dispatcher\n",
        "\n",
        "# Создадим два класса сомалетов, наследуемых от базового класса\n",
        "class Airplane1(BaseAirplane):\n",
        "  def do_takeoff(self) -> None:\n",
        "      print(\"Самолет 1 выполняет взлет.\")\n",
        "      self.dispatcher.notify(self, \"A\")\n",
        "\n",
        "  def do_wait(self) -> None:\n",
        "      print(\"Самолет 1 ожидает разрешения.\")\n",
        "\n",
        "\n",
        "class Airplane2(BaseAirplane):\n",
        "  def do_takeoff(self) -> None:\n",
        "      print(\"Самолет 2 выполняет взлет.\")\n",
        "      self.dispatcher.notify(self, \"B\")\n",
        "\n",
        "  def do_wait(self) -> None:\n",
        "      print(\"Самолет 2 ожидает разрешения.\")\n",
        "\n",
        "\n",
        "\n",
        "A1 = Airplane1()\n",
        "A2 = Airplane2()\n",
        "Dispatcher = ConcreteDispatcher(A1, A2)\n",
        "A1.do_takeoff()\n",
        "print(\"--------------------\")\n",
        "A2.do_takeoff()"
      ],
      "metadata": {
        "id": "E2NvBXvMerrH",
        "colab": {
          "base_uri": "https://localhost:8080/"
        },
        "outputId": "6f11bbd7-296f-4417-d241-1a14a59ce71b"
      },
      "execution_count": 63,
      "outputs": [
        {
          "output_type": "stream",
          "name": "stdout",
          "text": [
            "Самолет 1 выполняет взлет.\n",
            "Диспетчер получает сообщение взлета и координирует другой самолет:\n",
            "Самолет 2 ожидает разрешения.\n",
            "--------------------\n",
            "Самолет 2 выполняет взлет.\n",
            "Диспетчер получает сообщение взлета и координирует другой самолет:\n",
            "Самолет 1 ожидает разрешения.\n"
          ]
        }
      ]
    }
  ],
  "metadata": {
    "colab": {
      "provenance": []
    },
    "kernelspec": {
      "display_name": "Python 3",
      "name": "python3"
    }
  },
  "nbformat": 4,
  "nbformat_minor": 0
}